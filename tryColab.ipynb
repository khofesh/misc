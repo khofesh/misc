{
  "nbformat": 4,
  "nbformat_minor": 0,
  "metadata": {
    "colab": {
      "name": "tryColab.ipynb",
      "version": "0.3.2",
      "provenance": [],
      "collapsed_sections": [],
      "include_colab_link": true
    },
    "kernelspec": {
      "name": "python3",
      "display_name": "Python 3"
    },
    "accelerator": "GPU"
  },
  "cells": [
    {
      "cell_type": "markdown",
      "metadata": {
        "id": "view-in-github",
        "colab_type": "text"
      },
      "source": [
        "<a href=\"https://colab.research.google.com/github/khofesh/misc/blob/master/tryColab.ipynb\" target=\"_parent\"><img src=\"https://colab.research.google.com/assets/colab-badge.svg\" alt=\"Open In Colab\"/></a>"
      ]
    },
    {
      "metadata": {
        "id": "CsS58OJwHW4H",
        "colab_type": "code",
        "colab": {
          "base_uri": "https://localhost:8080/",
          "height": 34
        },
        "outputId": "e8ccaa2e-7ed5-471b-9048-d5996b2ee4bf"
      },
      "cell_type": "code",
      "source": [
        "print('hello')"
      ],
      "execution_count": 1,
      "outputs": [
        {
          "output_type": "stream",
          "text": [
            "hello\n"
          ],
          "name": "stdout"
        }
      ]
    },
    {
      "metadata": {
        "id": "Xbs1_Tw2J0hM",
        "colab_type": "code",
        "colab": {}
      },
      "cell_type": "code",
      "source": [
        "import numpy as np\n",
        "a = np.array(['Hello', 'World'])\n",
        "n = np.append(a, '!')\n",
        "print('Current array: {}'.format(a))\n",
        "print('Printing each element')\n",
        "for i in n:\n",
        "  print(i)\n",
        "\n",
        "print('\\nPrinting each element and their index')\n",
        "for i, e in enumerate(n):\n",
        "  print('Index: {}, was: {}'.format(i, e))"
      ],
      "execution_count": 0,
      "outputs": []
    },
    {
      "metadata": {
        "id": "rTrT-1woM2ep",
        "colab_type": "code",
        "colab": {
          "base_uri": "https://localhost:8080/",
          "height": 69
        },
        "outputId": "7e92e229-a26e-4efa-a350-b94675bf8a6c"
      },
      "cell_type": "code",
      "source": [
        "!pwd\n",
        "!cd /\n",
        "!ls -l"
      ],
      "execution_count": 7,
      "outputs": [
        {
          "output_type": "stream",
          "text": [
            "/content\n",
            "total 4\n",
            "drwxr-xr-x 1 root root 4096 Apr  4 20:20 sample_data\n"
          ],
          "name": "stdout"
        }
      ]
    }
  ]
}